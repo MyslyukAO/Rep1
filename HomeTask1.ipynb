{
 "cells": [
  {
   "cell_type": "markdown",
   "metadata": {},
   "source": [
    "3 задача (2 балла)"
   ]
  },
  {
   "cell_type": "code",
   "execution_count": 4,
   "metadata": {},
   "outputs": [
    {
     "name": "stdout",
     "output_type": "stream",
     "text": [
      "1\n",
      "1\n",
      "2\n",
      "3\n"
     ]
    }
   ],
   "source": [
    "a = [1, 1, 2, 3, 5, 8, 13, 21, 34, 55, 89]\n",
    "for i in range(len(a)):\n",
    "    if (a[i]<5):\n",
    "        print(a[i])"
   ]
  },
  {
   "cell_type": "markdown",
   "metadata": {},
   "source": [
    "9 задача (3 балла)"
   ]
  },
  {
   "cell_type": "code",
   "execution_count": 1,
   "metadata": {},
   "outputs": [
    {
     "name": "stdout",
     "output_type": "stream",
     "text": [
      "5\n",
      "больше\n",
      "7\n",
      "меньше\n",
      "6\n",
      "победа\n",
      "количество попыток:  3\n"
     ]
    }
   ],
   "source": [
    "import random\n",
    "a = random.randint(1, 9)\n",
    "i=0\n",
    "count=0\n",
    "while (i==0):\n",
    "    count=count+1\n",
    "    b=input()\n",
    "    if (b==\"exit\"):\n",
    "        break\n",
    "    c=int(b)\n",
    "    if (c<a):\n",
    "        print(\"больше\")\n",
    "    if (c>a):\n",
    "        print(\"меньше\")\n",
    "    if (c==a):\n",
    "        print(\"победа\")\n",
    "        break\n",
    "print(\"количество попыток: \",count)\n",
    "\n",
    "        \n"
   ]
  },
  {
   "cell_type": "markdown",
   "metadata": {},
   "source": [
    "25 задача (3 балла)"
   ]
  },
  {
   "cell_type": "code",
   "execution_count": 1,
   "metadata": {},
   "outputs": [
    {
     "name": "stdout",
     "output_type": "stream",
     "text": [
      "50\n",
      "больше\n",
      "75\n",
      "меньше\n",
      "62\n",
      "больше\n",
      "68\n",
      "больше\n",
      "71\n",
      "больше\n",
      "73\n",
      "меньше\n",
      "72\n",
      "победа\n",
      "Мне понадобилось:  6 попыток\n"
     ]
    }
   ],
   "source": [
    "print(50)\n",
    "a=input()\n",
    "b_1=0\n",
    "b_2=50\n",
    "b_3=100\n",
    "count=0\n",
    "while not (a==\"победа\"):\n",
    "    count=count+1\n",
    "    if (a==\"больше\"):\n",
    "        b_1=b_2\n",
    "        b_2=int((b_1+b_3)/2)\n",
    "    if (a==\"меньше\"):\n",
    "        b_3=b_2\n",
    "        b_2=int((b_1+b_3)/2)\n",
    "    print(b_2)\n",
    "    a=input()\n",
    "print(\"Мне понадобилось: \",count,\"попыток\")"
   ]
  },
  {
   "cell_type": "markdown",
   "metadata": {},
   "source": [
    "Задача 15 (4 балла)"
   ]
  },
  {
   "cell_type": "code",
   "execution_count": 5,
   "metadata": {},
   "outputs": [
    {
     "name": "stdout",
     "output_type": "stream",
     "text": [
      "hello, how do you do\n",
      "do you do how hello,\n"
     ]
    }
   ],
   "source": [
    "a=input()\n",
    "b = a.split()\n",
    "c = []\n",
    "for i in b:\n",
    "    c.insert(0,i)\n",
    "d = ' '.join(e for e in c)\n",
    "print(d)"
   ]
  },
  {
   "cell_type": "code",
   "execution_count": null,
   "metadata": {},
   "outputs": [],
   "source": []
  }
 ],
 "metadata": {
  "kernelspec": {
   "display_name": "Python 3",
   "language": "python",
   "name": "python3"
  }
 },
 "nbformat": 4,
 "nbformat_minor": 2
}
